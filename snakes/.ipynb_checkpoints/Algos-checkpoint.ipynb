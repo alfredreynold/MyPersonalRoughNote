{
 "cells": [
  {
   "cell_type": "code",
   "execution_count": 27,
   "metadata": {},
   "outputs": [
    {
     "name": "stdout",
     "output_type": "stream",
     "text": [
      "r\n"
     ]
    },
    {
     "data": {
      "text/plain": [
       "True"
      ]
     },
     "execution_count": 27,
     "metadata": {},
     "output_type": "execute_result"
    }
   ],
   "source": [
    "# Implement an algorithm to determine if a string has all unique characters  \n",
    "# What if you can not use additional data structures?\n",
    "text = \"alfred reynold\"\n",
    "idict = {}\n",
    "def containsDuplicates(idict, text):\n",
    "    for t in text:\n",
    "        if t in idict:\n",
    "            print(t)\n",
    "            return True\n",
    "        else:\n",
    "            idict[t] = 1\n",
    "    return false\n",
    "containsDuplicates(idict, text)"
   ]
  },
  {
   "cell_type": "code",
   "execution_count": 61,
   "metadata": {},
   "outputs": [
    {
     "name": "stdout",
     "output_type": "stream",
     "text": [
      "['d', 'e', 'r', 'f', 'l', 'a', 's', ' ']\n",
      "derflas \n"
     ]
    }
   ],
   "source": [
    "# Write code to reverse a C-Style String  \n",
    "# (C-String means that “abcd” is represented as five characters, including the null character )\n",
    "\n",
    "def reverseString(text):\n",
    "    text = list(text)\n",
    "    for i in range(int(len(text)/2 + 1) - 2,-1,-1):\n",
    "        oi = (len(text) - 2) - i\n",
    "        temp = text[i]\n",
    "        text[i] = text[oi]\n",
    "        text[oi] = temp\n",
    "    print(text)\n",
    "    print(\"\".join(text))\n",
    "reverseString(\"salfred \")\n",
    "    "
   ]
  },
  {
   "cell_type": "code",
   "execution_count": 69,
   "metadata": {},
   "outputs": [
    {
     "name": "stdout",
     "output_type": "stream",
     "text": [
      "this duplcae\n"
     ]
    }
   ],
   "source": [
    "# Design  an  algorithm  and  write  code  to  remove  the  duplicate  characters  in  a  string \n",
    "# without using any additional buffer  NOTE: One or two additional variables are fine. \n",
    "# An extra copy of the array is not.\n",
    "\n",
    "def removeDuplicatesInText(text):\n",
    "    text = list(text)\n",
    "    idict = {}\n",
    "    toDrop = []\n",
    "    for (i, c) in enumerate(text):\n",
    "        if c in idict:\n",
    "            toDrop.append(i)\n",
    "        else:\n",
    "            idict[c] = i\n",
    "    numOfDropped = 0\n",
    "    for i in toDrop:\n",
    "        text.pop(i - numOfDropped)\n",
    "        numOfDropped += 1\n",
    "    print(\"\".join(text))\n",
    "removeDuplicatesInText(\"this is duplicates\")"
   ]
  },
  {
   "cell_type": "code",
   "execution_count": 74,
   "metadata": {},
   "outputs": [],
   "source": [
    "# Write a method to decide if two strings are anagrams or not\n",
    "\n",
    "def isAnagram(text1,text2):\n",
    "    if (len(text1) != len(text2)): return False\n",
    "    cDict = {}\n",
    "    for i in text1:\n",
    "        if i not in cDict: cDict[i] = 0\n",
    "        cDict[i] += 1\n",
    "    sDict = {}\n",
    "    for i in text2:\n",
    "        if i not in sDict: sDict[i] = 0\n",
    "        sDict += 1"
   ]
  },
  {
   "cell_type": "code",
   "execution_count": null,
   "metadata": {},
   "outputs": [],
   "source": []
  }
 ],
 "metadata": {
  "kernelspec": {
   "display_name": "Python 3",
   "language": "python",
   "name": "python3"
  },
  "language_info": {
   "codemirror_mode": {
    "name": "ipython",
    "version": 3
   },
   "file_extension": ".py",
   "mimetype": "text/x-python",
   "name": "python",
   "nbconvert_exporter": "python",
   "pygments_lexer": "ipython3",
   "version": "3.7.3"
  }
 },
 "nbformat": 4,
 "nbformat_minor": 2
}
