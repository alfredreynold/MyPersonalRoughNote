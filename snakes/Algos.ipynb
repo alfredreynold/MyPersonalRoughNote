{
 "cells": [
  {
   "cell_type": "code",
   "execution_count": 27,
   "metadata": {},
   "outputs": [
    {
     "name": "stdout",
     "output_type": "stream",
     "text": [
      "r\n"
     ]
    },
    {
     "data": {
      "text/plain": [
       "True"
      ]
     },
     "execution_count": 27,
     "metadata": {},
     "output_type": "execute_result"
    }
   ],
   "source": [
    "# Implement an algorithm to determine if a string has all unique characters  \n",
    "# What if you can not use additional data structures?\n",
    "text = \"alfred reynold\"\n",
    "idict = {}\n",
    "def containsDuplicates(idict, text):\n",
    "    for t in text:\n",
    "        if t in idict:\n",
    "            print(t)\n",
    "            return True\n",
    "        else:\n",
    "            idict[t] = 1\n",
    "    return false\n",
    "containsDuplicates(idict, text)"
   ]
  },
  {
   "cell_type": "code",
   "execution_count": 61,
   "metadata": {},
   "outputs": [
    {
     "name": "stdout",
     "output_type": "stream",
     "text": [
      "['d', 'e', 'r', 'f', 'l', 'a', 's', ' ']\n",
      "derflas \n"
     ]
    }
   ],
   "source": [
    "# Write code to reverse a C-Style String  \n",
    "# (C-String means that “abcd” is represented as five characters, including the null character )\n",
    "\n",
    "def reverseString(text):\n",
    "    text = list(text)\n",
    "    for i in range(int(len(text)/2 + 1) - 2,-1,-1):\n",
    "        oi = (len(text) - 2) - i\n",
    "        temp = text[i]\n",
    "        text[i] = text[oi]\n",
    "        text[oi] = temp\n",
    "    print(text)\n",
    "    print(\"\".join(text))\n",
    "reverseString(\"salfred \")\n",
    "    "
   ]
  },
  {
   "cell_type": "code",
   "execution_count": 69,
   "metadata": {},
   "outputs": [
    {
     "name": "stdout",
     "output_type": "stream",
     "text": [
      "this duplcae\n"
     ]
    }
   ],
   "source": [
    "# Design  an  algorithm  and  write  code  to  remove  the  duplicate  characters  in  a  string \n",
    "# without using any additional buffer  NOTE: One or two additional variables are fine. \n",
    "# An extra copy of the array is not.\n",
    "\n",
    "def removeDuplicatesInText(text):\n",
    "    text = list(text)\n",
    "    idict = {}\n",
    "    toDrop = []\n",
    "    for (i, c) in enumerate(text):\n",
    "        if c in idict:\n",
    "            toDrop.append(i)\n",
    "        else:\n",
    "            idict[c] = i\n",
    "    numOfDropped = 0\n",
    "    for i in toDrop:\n",
    "        text.pop(i - numOfDropped)\n",
    "        numOfDropped += 1\n",
    "    print(\"\".join(text))\n",
    "removeDuplicatesInText(\"this is duplicates\")"
   ]
  },
  {
   "cell_type": "code",
   "execution_count": 83,
   "metadata": {},
   "outputs": [
    {
     "data": {
      "text/plain": [
       "True"
      ]
     },
     "execution_count": 83,
     "metadata": {},
     "output_type": "execute_result"
    }
   ],
   "source": [
    "# Write a method to decide if two strings are anagrams or not\n",
    "\n",
    "def isAnagram(text1,text2):\n",
    "    text1 = text1.replace(\" \", \"\")\n",
    "    text2 = text2.replace(\" \", \"\")\n",
    "    if (len(text1) != len(text2)): return False\n",
    "    cDict = {}\n",
    "    for i in text1:\n",
    "        if i not in cDict: cDict[i] = 0\n",
    "        cDict[i] += 1\n",
    "    sDict = {}\n",
    "    for i in text2:\n",
    "        if i not in sDict: sDict[i] = 0\n",
    "        sDict[i] += 1\n",
    "    \n",
    "    for (k,v) in cDict.items():\n",
    "        if sDict[k] != v: return False\n",
    "    return True\n",
    "\n",
    "isAnagram(\"Dormitory\", \"Dirty room\")"
   ]
  },
  {
   "cell_type": "code",
   "execution_count": 163,
   "metadata": {},
   "outputs": [
    {
     "name": "stdout",
     "output_type": "stream",
     "text": [
      "8\t3\t10\t2\n",
      "10\t8\t9\t9\n",
      "7\t2\t1\t6\n",
      "6\t8\t4\t4\n",
      "[8, 3, 10, 2] 4\n",
      "0 0 4\n",
      "1 0 4\n",
      "2 0 4\n",
      "[8, 9] 2\n",
      "[] 0\n",
      "\n",
      "\n",
      "\n",
      "2\t9\t6\t4\n",
      "10\t8\t9\t4\n",
      "3\t2\t1\t8\n",
      "8\t10\t7\t6\n"
     ]
    }
   ],
   "source": [
    "# Given  an  image  represented  by  an  NxN  matrix,  where  each  pixel  in  the  image  is  4 bytes, \n",
    "# write a method to rotate the image by 90 degrees  Can you do this in place?\n",
    "import math\n",
    "import random\n",
    "\n",
    "def printMatrix(matrix):\n",
    "    for row in matrix:\n",
    "        print(\"\\t\".join(map(str, row)))\n",
    "\n",
    "def createMatrix(R,C):\n",
    "    matrix = []\n",
    "    for i in range(R):\n",
    "        row = []\n",
    "        for j in range(C):\n",
    "            row.append(random.randint(1, 10))\n",
    "        matrix.append(row)\n",
    "    return matrix\n",
    "mat = createMatrix(4,4)\n",
    "printMatrix(mat)\n",
    "\n",
    "def rotate(mat):\n",
    "    \n",
    "    for x in range(int(len(mat)/2 + 1)):\n",
    "        numOfRows = len(mat) - x\n",
    "        firstRow = list(mat[x][x:numOfRows])\n",
    "        numOfRows = len(firstRow)\n",
    "        numOfCols = numOfRows\n",
    "        print(firstRow, numOfRows)\n",
    "        for i in range(x, numOfRows - 1):\n",
    "            print(i,x, numOfRows)\n",
    "            mat[x][i] = mat[i][numOfCols - 1]\n",
    "            mat[i][numOfCols - 1] = mat[numOfRows - 1][numOfCols - i -1]\n",
    "            mat[numOfRows - 1][numOfCols - i - 1] = mat[numOfRows - i - 1][x]\n",
    "#             print(i, x)\n",
    "            mat[numOfRows - i - 1][x] = firstRow[i-x]\n",
    "    print(\"\\n\\n\")\n",
    "    printMatrix(mat)\n",
    "rotate(mat)"
   ]
  },
  {
   "cell_type": "code",
   "execution_count": 160,
   "metadata": {},
   "outputs": [
    {
     "name": "stdout",
     "output_type": "stream",
     "text": [
      "0\n",
      "1\n",
      "2\n"
     ]
    }
   ],
   "source": [
    "for i in range(0,3):\n",
    "    print(i)\n"
   ]
  },
  {
   "cell_type": "code",
   "execution_count": 77,
   "metadata": {},
   "outputs": [
    {
     "data": {
      "text/plain": [
       "'as sd '"
      ]
     },
     "execution_count": 77,
     "metadata": {},
     "output_type": "execute_result"
    }
   ],
   "source": [
    "te"
   ]
  },
  {
   "cell_type": "code",
   "execution_count": null,
   "metadata": {},
   "outputs": [],
   "source": []
  }
 ],
 "metadata": {
  "kernelspec": {
   "display_name": "Python 3",
   "language": "python",
   "name": "python3"
  },
  "language_info": {
   "codemirror_mode": {
    "name": "ipython",
    "version": 3
   },
   "file_extension": ".py",
   "mimetype": "text/x-python",
   "name": "python",
   "nbconvert_exporter": "python",
   "pygments_lexer": "ipython3",
   "version": "3.7.3"
  }
 },
 "nbformat": 4,
 "nbformat_minor": 2
}
